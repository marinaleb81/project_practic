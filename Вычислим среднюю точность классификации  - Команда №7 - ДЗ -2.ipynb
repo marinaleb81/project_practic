{
 "cells": [
  {
   "cell_type": "code",
   "execution_count": 6,
   "metadata": {},
   "outputs": [],
   "source": [
    "import numpy as np\n",
    "import pandas as pd\n",
    "from sklearn.feature_selection import SelectKBest, f_classif, VarianceThreshold\n",
    "from sklearn.preprocessing import MinMaxScaler\n",
    "from sklearn.model_selection import train_test_split\n",
    "from sklearn.linear_model import LogisticRegression\n",
    "from sklearn.model_selection import cross_val_score"
   ]
  },
  {
   "cell_type": "code",
   "execution_count": 7,
   "metadata": {},
   "outputs": [],
   "source": [
    "pd.set_option('display.max_columns', None)  # Показать все столбцы\n",
    "pd.set_option('display.width', 1900)        # Установить ширину области отображения"
   ]
  },
  {
   "cell_type": "code",
   "execution_count": 8,
   "metadata": {},
   "outputs": [],
   "source": [
    "# Загрузка данных\n",
    "data = pd.read_csv('additional_variable_train.csv', sep=';') # Обратите внимание на путь файла\n",
    "\n",
    "# Просмотр первых строк\n",
    "# print(data.head())"
   ]
  },
  {
   "cell_type": "code",
   "execution_count": 10,
   "metadata": {},
   "outputs": [],
   "source": [
    "# Выбираем признаки для анализа\n",
    "X = data[['Air temperature [K]', 'Process temperature [K]', 'Rotational speed [rpm]', 'Torque [Nm]', \n",
    "          'Ratio', 'Deviation from Average', 'Tool wear [min]', 'Sum_Parametr']]  # Признаки\n",
    "y = data['Machine failure']  # Целевая переменная"
   ]
  },
  {
   "cell_type": "code",
   "execution_count": 11,
   "metadata": {},
   "outputs": [],
   "source": [
    "# Масштабирование данных, так как ANOVA чувствителен к масштабу признаков\n",
    "scaler = MinMaxScaler()\n",
    "X_scaled = scaler.fit_transform(X)"
   ]
  },
  {
   "cell_type": "code",
   "execution_count": 12,
   "metadata": {},
   "outputs": [],
   "source": [
    "# Разделение на обучающую и тестовую выборку\n",
    "X_train, X_test, y_train, y_test = train_test_split(X_scaled, y, test_size=0.3, random_state=42)"
   ]
  },
  {
   "cell_type": "code",
   "execution_count": 17,
   "metadata": {},
   "outputs": [
    {
     "name": "stdout",
     "output_type": "stream",
     "text": [
      "Точность модели для отбора по ANOVA: 0.9944\n"
     ]
    }
   ],
   "source": [
    "# 1. Применяем метод ANOVA для выбора k лучших признаков\n",
    "selector = SelectKBest(score_func=f_classif, k='all')  # 'all' выберет все признаки\n",
    "X_new = selector.fit_transform(X_train, y_train)\n",
    "\n",
    "# Получаем результаты анализа ANOVA\n",
    "anova_scores = selector.scores_\n",
    "\n",
    "# Для отбора по ANOVA\n",
    "anova_score = cross_val_score(LogisticRegression(), X_new, y_train, scoring='accuracy').mean()\n",
    "\n",
    "print(f\"Точность модели для отбора по ANOVA: {anova_score:.4f}\")"
   ]
  },
  {
   "cell_type": "code",
   "execution_count": 20,
   "metadata": {},
   "outputs": [
    {
     "name": "stdout",
     "output_type": "stream",
     "text": [
      "Размерность исходных данных: (95500, 8)\n",
      "Размерность данных после отбора по дисперсии: (95500, 7)\n",
      "\n",
      "Точность модели для отбора по дисперсии: 0.9844\n"
     ]
    }
   ],
   "source": [
    "# 2. Применяем метод отбора признаков по дисперсии\n",
    "var_threshold = VarianceThreshold(threshold=0.01)  # Устанавливаем порог дисперсии\n",
    "X_var = var_threshold.fit_transform(X_train)\n",
    "\n",
    "# Проверяем размерность данных после фильтрации\n",
    "print(f\"Размерность исходных данных: {X_train.shape}\")\n",
    "print(f\"Размерность данных после отбора по дисперсии: {X_var.shape}\")\n",
    "\n",
    "# Для отбора по дисперсии\n",
    "var_score = cross_val_score(LogisticRegression(), X_var, y_train, scoring='accuracy').mean()\n",
    "\n",
    "print(f\"\\nТочность модели для отбора по дисперсии: {var_score:.4f}\")"
   ]
  },
  {
   "cell_type": "code",
   "execution_count": null,
   "metadata": {},
   "outputs": [
    {
     "name": "stdout",
     "output_type": "stream",
     "text": [
      "Точность модели для исходных данных: 0.9943\n",
      "\n",
      "Точность модели для отбора по дисперсии: 0.9844\n",
      "\n",
      "Точность модели для отбора по ANOVA: 0.9944\n"
     ]
    }
   ],
   "source": [
    "# Выводим результаты ВСе месте для сравнения\n",
    "print(f\"Точность модели для исходных данных: {original_score:.4f}\")\n",
    "print(f\"\\nТочность модели для отбора по дисперсии: {var_score:.4f}\")\n",
    "print(f\"\\nТочность модели для отбора по ANOVA: {anova_score:.4f}\")"
   ]
  },
  {
   "cell_type": "markdown",
   "metadata": {},
   "source": [
    "### Выводы из анализа:\n",
    "\n",
    "1. **Точность модели для исходных данных (0.9943):**\n",
    "   - Модель на исходных данных показывает очень высокую точность (99.43%). Это свидетельствует о том, что данные в изначальном виде достаточно информативны для предсказания целевой переменной.\n",
    "\n",
    "2. **Точность модели для отбора по дисперсии (0.9844):**\n",
    "   - После применения метода отбора признаков по дисперсии (Variance Threshold) точность модели немного снижается до 98.44%. Это указывает на то, что исключение признаков с низкой вариативностью не имеет существенного влияния на точность модели, но, возможно, уменьшает сложность модели, что может привести к лучшей обобщающей способности в других случаях.\n",
    "\n",
    "3. **Точность модели для отбора по ANOVA (0.9944):**\n",
    "   - Применение метода отбора признаков на основе ANOVA для оценки значимости признаков не изменяет точность модели, которая становится равной 99.44%. Это говорит о том, что признаки, выбранные с помощью ANOVA, не ухудшают модель и могут даже немного улучшить её точность.\n",
    "\n",
    "### Общие выводы:\n",
    "- **Метод ANOVA** оказался наиболее эффективным, так как он улучшил точность модели на 0.01% по сравнению с исходными данными.\n",
    "- **Отбор по дисперсии** привел к небольшому снижению точности модели, что указывает на то, что некоторые признаки с низкой дисперсией могут все-таки быть полезны.\n",
    "- В целом, методы отбора признаков по ANOVA и по дисперсии не привели к значительному ухудшению точности модели, но ANOVA может быть более предпочтительным для выбора информативных признаков.\n",
    "\n",
    "### Рекомендация:\n",
    "- Можно оставить модель с использованием **ANOVA**, так как она сохраняет или немного улучшает точность, при этом отбирая более значимые признаки.\n",
    "- Для дальнейшего улучшения модели можно исследовать другие методы отбора признаков, такие как методы регуляризации или использование деревьев решений для оценки важности признаков.\n"
   ]
  }
 ],
 "metadata": {
  "kernelspec": {
   "display_name": "Python 3",
   "language": "python",
   "name": "python3"
  },
  "language_info": {
   "codemirror_mode": {
    "name": "ipython",
    "version": 3
   },
   "file_extension": ".py",
   "mimetype": "text/x-python",
   "name": "python",
   "nbconvert_exporter": "python",
   "pygments_lexer": "ipython3",
   "version": "3.12.7"
  }
 },
 "nbformat": 4,
 "nbformat_minor": 2
}
