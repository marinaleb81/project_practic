{
 "cells": [
  {
   "cell_type": "code",
   "execution_count": 177,
   "metadata": {},
   "outputs": [],
   "source": [
    "import pandas as pd\n",
    "import numpy as np\n",
    "from sklearn.preprocessing import MinMaxScaler, LabelEncoder\n",
    "import seaborn as sns\n",
    "import matplotlib.pyplot as plt\n",
    "from sklearn.preprocessing import PolynomialFeatures\n",
    "from sklearn.linear_model import LogisticRegression\n",
    "from sklearn.pipeline import Pipeline\n",
    "from sklearn.model_selection import train_test_split"
   ]
  },
  {
   "cell_type": "code",
   "execution_count": 178,
   "metadata": {},
   "outputs": [],
   "source": [
    "pd.set_option('display.max_columns', None)  # Показать все столбцы\n",
    "pd.set_option('display.width', 1900)        # Установить ширину области отображения"
   ]
  },
  {
   "cell_type": "code",
   "execution_count": 179,
   "metadata": {},
   "outputs": [
    {
     "name": "stdout",
     "output_type": "stream",
     "text": [
      "   id  Air temperature [K]  Process temperature [K]  Rotational speed [rpm]  Torque [Nm]  Tool wear [min]  Machine failure  Tool Wear Failure [TWF]  Heat Dissipation Failure [HDF]  Power Failure [PWF]  Overstrain Failure [OSF]  Random Failure [RNF]  Type_H  Type_L  Type_M\n",
      "0   0                300.6                    309.6                    1596         36.1              140                0                        0                               0                    0                         0                     0   False    True   False\n",
      "1   1                302.6                    312.1                    1759         29.1              200                0                        0                               0                    0                         0                     0   False   False    True\n",
      "2   2                299.3                    308.5                    1802         26.5               25                0                        0                               0                    0                         0                     0   False    True   False\n",
      "3   3                301.0                    310.9                    1524         44.3              197                0                        0                               0                    0                         0                     0   False    True   False\n",
      "4   4                298.0                    309.0                    1641         35.4               34                0                        0                               0                    0                         0                     0   False   False    True\n"
     ]
    }
   ],
   "source": [
    "# Загрузка данных\n",
    "data = pd.read_csv('processed_train.csv', sep=';') # Обратите внимание на путь файла\n",
    "\n",
    "# Просмотр первых строк\n",
    "print(data.head())"
   ]
  },
  {
   "cell_type": "code",
   "execution_count": 180,
   "metadata": {},
   "outputs": [
    {
     "name": "stdout",
     "output_type": "stream",
     "text": [
      "<class 'pandas.core.frame.DataFrame'>\n",
      "RangeIndex: 136429 entries, 0 to 136428\n",
      "Data columns (total 15 columns):\n",
      " #   Column                          Non-Null Count   Dtype  \n",
      "---  ------                          --------------   -----  \n",
      " 0   id                              136429 non-null  int64  \n",
      " 1   Air temperature [K]             136429 non-null  float64\n",
      " 2   Process temperature [K]         136429 non-null  float64\n",
      " 3   Rotational speed [rpm]          136429 non-null  int64  \n",
      " 4   Torque [Nm]                     136429 non-null  float64\n",
      " 5   Tool wear [min]                 136429 non-null  int64  \n",
      " 6   Machine failure                 136429 non-null  int64  \n",
      " 7   Tool Wear Failure [TWF]         136429 non-null  int64  \n",
      " 8   Heat Dissipation Failure [HDF]  136429 non-null  int64  \n",
      " 9   Power Failure [PWF]             136429 non-null  int64  \n",
      " 10  Overstrain Failure [OSF]        136429 non-null  int64  \n",
      " 11  Random Failure [RNF]            136429 non-null  int64  \n",
      " 12  Type_H                          136429 non-null  bool   \n",
      " 13  Type_L                          136429 non-null  bool   \n",
      " 14  Type_M                          136429 non-null  bool   \n",
      "dtypes: bool(3), float64(3), int64(9)\n",
      "memory usage: 12.9 MB\n",
      "None\n"
     ]
    }
   ],
   "source": [
    "# Получение общей информации о данных\n",
    "print(data.info())"
   ]
  },
  {
   "cell_type": "markdown",
   "metadata": {},
   "source": [
    "### Описание столбцов:\n",
    "- **id**: Идентификатор записи\n",
    "- **Product ID**: Идентификатор продукта\n",
    "- **Type**: Тип оборудования (L, M, H)\n",
    "- **Air temperature [K]**: Температура воздуха (в Кельвинах)\n",
    "- **Process temperature [K]**: Температура процесса (в Кельвинах)\n",
    "- **Rotational speed [rpm]**: Скорость вращения (об/мин)\n",
    "- **Torque [Nm]**: Крутящий момент (Н·м)\n",
    "- **Tool wear [min]**: Износ инструмента (минуты)\n",
    "- **Machine failure**: Отказ оборудования *(Целевая переменная)*\n",
    "- **Tool Wear Failure [TWF]**: Отказ из-за износа инструмента\n",
    "- **Heat Dissipation Failure [HDF]**: Отказ из-за проблем с охлаждением\n",
    "- **Power Failure [PWF]**: Отказ из-за проблем с подачей электроэнергии\n",
    "- **Overstrain Failure [OSF]**: Отказ из-за перенапряжения\n",
    "- **Random Failure [RNF]**: Случайный отказ\n"
   ]
  },
  {
   "cell_type": "markdown",
   "metadata": {},
   "source": [
    "Давайте расчитает сумму значений для параметров отказов. Сохраним в столбец `Sum_Parametr`. Далее можно проанализировать влияние данного параметра на целевую переменную."
   ]
  },
  {
   "cell_type": "code",
   "execution_count": 181,
   "metadata": {},
   "outputs": [
    {
     "name": "stdout",
     "output_type": "stream",
     "text": [
      "0         0\n",
      "1         0\n",
      "2         0\n",
      "3         0\n",
      "4         0\n",
      "         ..\n",
      "136424    0\n",
      "136425    0\n",
      "136426    0\n",
      "136427    0\n",
      "136428    0\n",
      "Name: Sum_Parametr, Length: 136429, dtype: int64\n"
     ]
    }
   ],
   "source": [
    "data['Sum_Parametr'] = data['Tool Wear Failure [TWF]'] + data['Heat Dissipation Failure [HDF]'] + data['Power Failure [PWF]'] + data['Overstrain Failure [OSF]'] + data['Random Failure [RNF]']\n",
    "print(data['Sum_Parametr'])"
   ]
  },
  {
   "cell_type": "markdown",
   "metadata": {},
   "source": [
    "Появился столбец `Sum_Parametr` - сумма бинарных значений столбцов:\n",
    "-  **Tool Wear Failure [TWF]**   \n",
    "-  **Heat Dissipation Failure [HDF]**   \n",
    "-  **Power Failure [PWF]**   \n",
    "-  **Overstrain Failure [OSF]**   \n",
    "-  **Random Failure [RNF]**\n",
    "\n",
    "Использую значени `Sum_Parametr` - посмотрим как он влияет на целевую переменную!"
   ]
  },
  {
   "cell_type": "code",
   "execution_count": 182,
   "metadata": {},
   "outputs": [],
   "source": [
    "#print(data.info())"
   ]
  },
  {
   "cell_type": "code",
   "execution_count": 183,
   "metadata": {},
   "outputs": [
    {
     "name": "stdout",
     "output_type": "stream",
     "text": [
      "Среднее Tool Wear Failure [TWF]:  0.0015539218201408792\n",
      "Среднее THeat Dissipation Failure [HDF]:  0.005160193214052731\n",
      "Среднее Power Failure [PWF]:  0.002396851109368243\n",
      "Среднее Overstrain Failure [OSF]:  0.003958102749415447\n",
      "Среднее Random Failure [RNF]:  0.0022575845311480695\n"
     ]
    }
   ],
   "source": [
    "print('Среднее Tool Wear Failure [TWF]: ', data['Tool Wear Failure [TWF]'].mean())\n",
    "print('Среднее THeat Dissipation Failure [HDF]: ', data['Heat Dissipation Failure [HDF]'].mean())\n",
    "print('Среднее Power Failure [PWF]: ', data['Power Failure [PWF]'].mean())\n",
    "print('Среднее Overstrain Failure [OSF]: ', data['Overstrain Failure [OSF]'].mean())\n",
    "print('Среднее Random Failure [RNF]: ', data['Random Failure [RNF]'].mean())"
   ]
  },
  {
   "cell_type": "code",
   "execution_count": 184,
   "metadata": {},
   "outputs": [
    {
     "name": "stdout",
     "output_type": "stream",
     "text": [
      "Сумма всех значений Tool Wear Failure [TWF]:  212\n",
      "Сумма всех значений THeat Dissipation Failure [HDF]:  704\n",
      "Сумма всех значений Power Failure [PWF]:  327\n",
      "Сумма всех значений Overstrain Failure [OSF]:  540\n",
      "Сумма всех значений Random Failure [RNF]:  308\n",
      "\n",
      "Общее количество строк: 136428\n"
     ]
    }
   ],
   "source": [
    "print('Сумма всех значений Tool Wear Failure [TWF]: ', data['Tool Wear Failure [TWF]'].sum())\n",
    "print('Сумма всех значений THeat Dissipation Failure [HDF]: ', data['Heat Dissipation Failure [HDF]'].sum())\n",
    "print('Сумма всех значений Power Failure [PWF]: ', data['Power Failure [PWF]'].sum())\n",
    "print('Сумма всех значений Overstrain Failure [OSF]: ', data['Overstrain Failure [OSF]'].sum())\n",
    "print('Сумма всех значений Random Failure [RNF]: ', data['Random Failure [RNF]'].sum())\n",
    "\n",
    "print('\\nОбщее количество строк: 136428')"
   ]
  },
  {
   "cell_type": "markdown",
   "metadata": {},
   "source": [
    "### Вывод\n",
    "\n",
    "Значения **Среднее** и **Сумма** показывают, что в бинарных столбцах не так много **положительных значений (1)**.  \n",
    "\n",
    "Большая часть значений — **0**, что говорит о том, что один столбец, по отдельности, мало влияет на целевую переменную.\n"
   ]
  },
  {
   "cell_type": "code",
   "execution_count": 185,
   "metadata": {},
   "outputs": [
    {
     "name": "stdout",
     "output_type": "stream",
     "text": [
      "              Не сломается (0)  Сломается (1)  Доля отказов (%)\n",
      "Sum_Parametr                                                   \n",
      "0                       133966            507          0.377027\n",
      "1                          315           1512         82.758621\n",
      "2                            0            123        100.000000\n",
      "3                            0              6        100.000000\n"
     ]
    }
   ],
   "source": [
    "# Группировка по Sum_Parametr и подсчет количества случаев Machine failure = 0 и 1\n",
    "result = data.groupby('Sum_Parametr')['Machine failure'].value_counts().unstack(fill_value=0)\n",
    "\n",
    "# Переименуем колонки для удобства чтения\n",
    "result.columns = ['Не сломается (0)', 'Сломается (1)']\n",
    "\n",
    "# Рассчитаем долю отказов для каждого значения Sum_Parametr\n",
    "result['Доля отказов (%)'] = (result['Сломается (1)'] / result.sum(axis=1)) * 100\n",
    "\n",
    "print(result)"
   ]
  },
  {
   "cell_type": "code",
   "execution_count": 186,
   "metadata": {},
   "outputs": [
    {
     "data": {
      "image/png": "[encoded data removed]",
      "text/plain": [
       "<Figure size 1000x600 with 1 Axes>"
      ]
     },
     "metadata": {},
     "output_type": "display_data"
    }
   ],
   "source": [
    "# Построение графика\n",
    "plt.figure(figsize=(10, 6))\n",
    "plt.bar(result.index, result['Доля отказов (%)'], color='skyblue', edgecolor='black', alpha=0.8)\n",
    "\n",
    "# Настройка графика\n",
    "plt.title('Доля отказов (%) в зависимости от Sum_Parametr', fontsize=14)\n",
    "plt.xlabel('Sum_Parametr', fontsize=12)\n",
    "plt.ylabel('Доля отказов (%)', fontsize=12)\n",
    "plt.xticks(result.index)  # Установка меток оси X\n",
    "plt.ylim(0, 110)  # Установка диапазона для оси Y\n",
    "plt.grid(axis='y', linestyle='--', alpha=0.7)\n",
    "\n",
    "# Показать график\n",
    "plt.tight_layout()\n",
    "plt.show()"
   ]
  },
  {
   "cell_type": "markdown",
   "metadata": {},
   "source": [
    "### Вывод\n",
    "\n",
    "Суммарный показатель существенно влияет на целевую переменую, давайте узнаю какие именного параметры отказа максмально влияют на работу оборудования."
   ]
  },
  {
   "cell_type": "code",
   "execution_count": 187,
   "metadata": {},
   "outputs": [],
   "source": [
    "# Перемещение столбца 'Sum_Parametr' на 12 место - так логичнее\n",
    "columns = list(data.columns)\n",
    "columns.insert(12, columns.pop(columns.index('Sum_Parametr')))\n",
    "data = data[columns]\n",
    "\n",
    "# Вывод новой структуры\n",
    "# print(data.info())"
   ]
  },
  {
   "cell_type": "code",
   "execution_count": 188,
   "metadata": {},
   "outputs": [
    {
     "name": "stdout",
     "output_type": "stream",
     "text": [
      "\n",
      "Анализ столбца: Tool Wear Failure [TWF]\n",
      "                         Не сломается (0)  Сломается (1)  Доля отказов (%)\n",
      "Tool Wear Failure [TWF]                                                   \n",
      "0                                  134281           1936          1.421262\n",
      "1                                       0            212        100.000000\n",
      "\n",
      "Анализ столбца: Heat Dissipation Failure [HDF]\n",
      "                                Не сломается (0)  Сломается (1)  Доля отказов (%)\n",
      "Heat Dissipation Failure [HDF]                                                   \n",
      "0                                         134275           1450          1.068337\n",
      "1                                              6            698         99.147727\n",
      "\n",
      "Анализ столбца: Power Failure [PWF]\n",
      "                     Не сломается (0)  Сломается (1)  Доля отказов (%)\n",
      "Power Failure [PWF]                                                   \n",
      "0                              134278           1824          1.340171\n",
      "1                                   3            324         99.082569\n",
      "\n",
      "Анализ столбца: Overstrain Failure [OSF]\n",
      "                          Не сломается (0)  Сломается (1)  Доля отказов (%)\n",
      "Overstrain Failure [OSF]                                                   \n",
      "0                                   134277           1612          1.186262\n",
      "1                                        4            536         99.259259\n",
      "\n",
      "Анализ столбца: Random Failure [RNF]\n",
      "                      Не сломается (0)  Сломается (1)  Доля отказов (%)\n",
      "Random Failure [RNF]                                                   \n",
      "0                               133979           2142          1.573600\n",
      "1                                  302              6          1.948052\n"
     ]
    }
   ],
   "source": [
    "# Список столбцов для анализа\n",
    "failure_columns = [\n",
    "    'Tool Wear Failure [TWF]',\n",
    "    'Heat Dissipation Failure [HDF]',\n",
    "    'Power Failure [PWF]',\n",
    "    'Overstrain Failure [OSF]',\n",
    "    'Random Failure [RNF]'\n",
    "]\n",
    "\n",
    "# Анализ каждого столбца\n",
    "for col in failure_columns:\n",
    "    print(f\"\\nАнализ столбца: {col}\")\n",
    "    \n",
    "    # Группировка данных\n",
    "    result = data.groupby(col)['Machine failure'].value_counts().unstack(fill_value=0)\n",
    "    \n",
    "    # Переименуем столбцы для удобства\n",
    "    result.columns = ['Не сломается (0)', 'Сломается (1)']\n",
    "    \n",
    "    # Добавим долю отказов\n",
    "    result['Доля отказов (%)'] = (result['Сломается (1)'] / result.sum(axis=1)) * 100\n",
    "    \n",
    "    # Вывод результата\n",
    "    print(result)"
   ]
  },
  {
   "cell_type": "markdown",
   "metadata": {},
   "source": [
    "В табличном представлении не столь наглядно видно результат влияния, поэтому постриям график для параметра `Процент отказа (%)`"
   ]
  },
  {
   "cell_type": "code",
   "execution_count": 189,
   "metadata": {},
   "outputs": [
    {
     "data": {
      "image/png": "[encoded data removed]",
      "text/plain": [
       "<Figure size 2000x500 with 5 Axes>"
      ]
     },
     "metadata": {},
     "output_type": "display_data"
    }
   ],
   "source": [
    "# Создаем фигуру с несколькими подграфиками в одну строку\n",
    "fig, axes = plt.subplots(1, len(failure_columns), figsize=(20, 5), sharey=True)\n",
    "\n",
    "# Анализ и визуализация для каждого столбца\n",
    "for ax, col in zip(axes, failure_columns):\n",
    "    # print(f\"\\nАнализ столбца: {col}\")\n",
    "    \n",
    "    # Группировка данных\n",
    "    result = data.groupby(col)['Machine failure'].value_counts().unstack(fill_value=0)\n",
    "    \n",
    "    # Переименуем столбцы для удобства\n",
    "    result.columns = ['Не сломается (0)', 'Сломается (1)']\n",
    "    \n",
    "    # Добавим долю отказов (по-английски)\n",
    "    result['Процент отказа (%)'] = (result['Сломается (1)'] / result.sum(axis=1)) * 100\n",
    "    \n",
    "    # Вывод результата в консоль\n",
    "    # print(result)\n",
    "    \n",
    "    # Построение графика\n",
    "    ax.bar(result.index.astype(str), result['Процент отказа (%)'], color='skyblue', edgecolor='black', alpha=0.8)\n",
    "    \n",
    "    # Настройка графика\n",
    "    ax.set_title(f'{col}', fontsize=10)\n",
    "    ax.set_xlabel(col, fontsize=8)\n",
    "    ax.set_xticks(result.index.astype(str))\n",
    "    ax.set_xticklabels(result.index.astype(str), rotation=0)\n",
    "    ax.grid(axis='y', linestyle='--', alpha=0.7)\n",
    "\n",
    "# Общие настройки\n",
    "fig.suptitle('Процент отказа (%) для каждого параметра', fontsize=14)\n",
    "axes[0].set_ylabel('Процент отказа (%)', fontsize=12)\n",
    "plt.tight_layout(rect=[0, 0, 1, 0.95])\n",
    "plt.show()"
   ]
  },
  {
   "cell_type": "markdown",
   "metadata": {},
   "source": [
    "### Выводы по анализу отказов:\n",
    "\n",
    "#### 1. **Tool Wear Failure [TWF]**: Отказ из-за износа инструмента\n",
    "- **0 (Нет износа):** 134,281 случаев без отказа, 1936 случаев с отказом (1.42%).\n",
    "- **1 (Есть износ):** 100% случаев привели к отказу.\n",
    "- **Вывод:** Полный отказ оборудования при наличии износа инструмента.\n",
    "\n",
    "---\n",
    "\n",
    "#### 2. **Heat Dissipation Failure [HDF]**: Отказ из-за проблем с охлаждением\n",
    "- **0 (Нет перегрева):** 134,275 случаев без отказа, 1450 случаев с отказом (1.07%).\n",
    "- **1 (Есть перегрев):** 99.15% случаев привели к отказу.\n",
    "- **Вывод:** Почти всегда перегрев приводит к отказу.\n",
    "\n",
    "---\n",
    "\n",
    "#### 3. **Power Failure [PWF]**: Отказ из-за проблем с подачей электроэнергии\n",
    "- **0 (Нет проблем с питанием):** 134,278 случаев без отказа, 1824 случаев с отказом (1.34%).\n",
    "- **1 (Есть проблемы с питанием):** 99.08% случаев привели к отказу.\n",
    "- **Вывод:** Проблемы с питанием почти всегда приводят к отказу.\n",
    "\n",
    "---\n",
    "\n",
    "#### 4. **Overstrain Failure [OSF]**: Отказ из-за перенапряжения\n",
    "- **0 (Нет перенапряжения):** 134,277 случаев без отказа, 1612 случаев с отказом (1.19%).\n",
    "- **1 (Есть перенапряжение):** 99.26% случаев привели к отказу.\n",
    "- **Вывод:** Перенапряжение практически всегда приводит к отказу.\n",
    "\n",
    "---\n",
    "\n",
    "#### 5. **Random Failure [RNF]**: Случайный отказ\n",
    "- **0 (Нет случайного отказа):** 133,979 случаев без отказа, 2142 случаев с отказом (1.57%).\n",
    "- **1 (Есть случайный отказ):** Только 1.95% случаев привели к отказу.\n",
    "- **Вывод:** Случайные отказы редко приводят к полному отказу оборудования.\n",
    "\n",
    "---\n",
    "\n",
    "### Общие выводы:\n",
    "1. **Наиболее критичны:** \n",
    "   - **Tool Wear Failure [TWF]** (100% отказов) \n",
    "   - **Heat Dissipation Failure [HDF]**, **Power Failure [PWF]**, **Overstrain Failure [OSF]** (около 99% отказов).\n",
    "2. **Наименее значим:** \n",
    "   - **Random Failure [RNF]** редко приводит к полному отказу.\n"
   ]
  },
  {
   "cell_type": "markdown",
   "metadata": {},
   "source": [
    "В ходе анализа датасета было замечено, что в некоторых случаях имеет место нестандартная корреляция параметров `Rotational speed [rpm]` и `Torque [Nm]`. Необходимо выяснить, существует ли прямая зависимость отклонения от среднего коэффициента соотношений на целевую переменную.\n",
    "\n",
    "**Средний коэффициент отклонения** — это среднее значение отношения двух параметров (в данном случае `Rotational speed [rpm]` и `Torque [Nm]`), вычисленное по всем записям в датасете. Оно используется как эталон для анализа отклонений каждого отдельного случая от общего среднего."
   ]
  },
  {
   "cell_type": "code",
   "execution_count": 190,
   "metadata": {},
   "outputs": [
    {
     "name": "stdout",
     "output_type": "stream",
     "text": [
      "Средний коэффициент отклонения: 40.06\n"
     ]
    }
   ],
   "source": [
    "# Вычисление коэффициента соотношения и его среднего значения\n",
    "data['Ratio'] = data['Rotational speed [rpm]'] / data['Torque [Nm]']\n",
    "average_ratio = data['Ratio'].mean()\n",
    "\n",
    "print(f\"Средний коэффициент отклонения: {average_ratio:.2f}\")"
   ]
  },
  {
   "cell_type": "markdown",
   "metadata": {},
   "source": [
    "### Расчитали средний коэфициент отклонения\n",
    "\n",
    "По всем данным в `Rotational speed [rpm]` / `Torque [Nm]`\n",
    "\n",
    "Чтобы в дальнейшем сравнить влияния отклонения на целевую переменную."
   ]
  },
  {
   "cell_type": "code",
   "execution_count": 191,
   "metadata": {},
   "outputs": [
    {
     "name": "stdout",
     "output_type": "stream",
     "text": [
      "\n",
      "Анализ влияния отклонений на Machine failure:\n",
      "Machine failure         Не сломается (0)  Сломается (1)\n",
      "Deviation from Average                                 \n",
      "Negative                           81056           1848\n",
      "Neutral                              867              1\n",
      "Positive                           52358            299\n",
      "\n",
      "Процентное распределение по отклонениям и Machine failure:\n",
      "Machine failure         Не сломается (0)  Сломается (1)\n",
      "Deviation from Average                                 \n",
      "Negative                       97.770916       2.229084\n",
      "Neutral                        99.884793       0.115207\n",
      "Positive                       99.432174       0.567826\n"
     ]
    },
    {
     "name": "stderr",
     "output_type": "stream",
     "text": [
      "C:\\Users\\0\\AppData\\Local\\Temp\\ipykernel_15176\\642895041.py:15: FutureWarning: The default of observed=False is deprecated and will be changed to True in a future version of pandas. Pass observed=False to retain current behavior or observed=True to adopt the future default and silence this warning.\n",
      "  analysis = data.groupby([deviation_category, 'Machine failure']).size().unstack(fill_value=0)\n"
     ]
    }
   ],
   "source": [
    "# Вычисление коэффициента соотношения для каждого случая\n",
    "data['Ratio'] = data['Rotational speed [rpm]'] / data['Torque [Nm]']\n",
    "\n",
    "# Отклонения от среднего коэффициента\n",
    "data['Deviation from Average'] = data['Ratio'] - average_ratio\n",
    "\n",
    "# Временное добавление категорий отклонений\n",
    "deviation_category = pd.cut(\n",
    "    data['Deviation from Average'],\n",
    "    bins=[-float('inf'), -0.1, 0.1, float('inf')],  # Разделяем на отрицательные, около среднего, положительные\n",
    "    labels=['Negative', 'Neutral', 'Positive']\n",
    ")\n",
    "\n",
    "# Анализ по группам\n",
    "analysis = data.groupby([deviation_category, 'Machine failure']).size().unstack(fill_value=0)\n",
    "\n",
    "# Переименуем колонки для удобства\n",
    "analysis.rename(columns={0: 'Не сломается (0)', 1: 'Сломается (1)'}, inplace=True)\n",
    "\n",
    "# Печать результатов\n",
    "print(\"\\nАнализ влияния отклонений на Machine failure:\")\n",
    "print(analysis)\n",
    "\n",
    "# Дополнительно: процентное распределение для удобства\n",
    "percentage_analysis = analysis.div(analysis.sum(axis=1), axis=0) * 100\n",
    "print(\"\\nПроцентное распределение по отклонениям и Machine failure:\")\n",
    "print(percentage_analysis)"
   ]
  },
  {
   "cell_type": "markdown",
   "metadata": {},
   "source": [
    "- **Negative** (Отклонение в отрицательную сторону): \n",
    "  - В этом случае 97.77% оборудования работает нормально.\n",
    "  - Лишь 2.23% случаев привели к отказу.\n",
    "\n",
    "- **Neutral** (Норма, максимально близкое к среднему отклонению): \n",
    "  - 99.88% оборудования работает нормально.\n",
    "  - Только 0.12% случаев привели к отказу.\n",
    "\n",
    "- **Positive** (Отклонение в положительную сторону): \n",
    "  - В этом случае 99.43% оборудования работает нормально.\n",
    "  - 0.57% случаев привели к отказу.\n",
    "\n",
    "  Вывод:\n",
    "- Наибольшее количество отказов оборудования (2.23%) происходит при **отрицательных отклонениях**.\n",
    "- **Норма** демонстрирует минимальный процент отказов (0.12%).\n",
    "- Положительные отклонения также приводят к отказам, но с меньшей частотой (0.57%)."
   ]
  },
  {
   "cell_type": "code",
   "execution_count": 192,
   "metadata": {},
   "outputs": [],
   "source": [
    "# Перемещение столбца 'Ratio' на 5 место, а Deviation from Average на 6 - так логичнее\n",
    "columns = list(data.columns)\n",
    "columns.insert(5, columns.pop(columns.index('Ratio')))\n",
    "columns.insert(6, columns.pop(columns.index('Deviation from Average')))\n",
    "data = data[columns]\n",
    "\n",
    "# Вывод новой структуры\n",
    "# print(data.info())\n",
    "# print(data.head(25))"
   ]
  },
  {
   "cell_type": "markdown",
   "metadata": {},
   "source": [
    "### Описание столбцов:\n",
    "\n",
    "- **id**: Уникальный идентификатор записи.\n",
    "- **Air temperature [K]**: Температура воздуха в Кельвинах.\n",
    "- **Process temperature [K]**: Температура процесса в Кельвинах.\n",
    "- **Rotational speed [rpm]**: Скорость вращения в оборотах в минуту (об/мин).\n",
    "- **Torque [Nm]**: Крутящий момент в Н·м.\n",
    "- **Ratio**: Коэффициент соотношения между скоростью вращения и крутящим моментом.\n",
    "- **Deviation from Average**: Отклонение коэффициента `Ratio` от среднего значения 40.06\n",
    "- **Tool wear [min]**: Износ инструмента в минутах.\n",
    "- **Machine failure**: Целевая переменная, указывающая, произошёл ли отказ оборудования.\n",
    "- **Tool Wear Failure [TWF]**: Указывает на отказ, связанный с износом инструмента.\n",
    "- **Heat Dissipation Failure [HDF]**: Указывает на отказ, вызванный проблемами с охлаждением.\n",
    "- **Power Failure [PWF]**: Указывает на отказ, вызванный проблемами с подачей электроэнергии.\n",
    "- **Overstrain Failure [OSF]**: Указывает на отказ, вызванный перенапряжением.\n",
    "- **Random Failure [RNF]**: Указывает на случайный отказ, не связанный с другими причинами.\n",
    "- **Sum_Parametr**: Суммарный показатель по отказам из пяти основных категорий.\n",
    "- **Type_H**: Бинарный индикатор принадлежности типа оборудования к категории `H`.\n",
    "- **Type_L**: Бинарный индикатор принадлежности типа оборудования к категории `L`.\n",
    "- **Type_M**: Бинарный индикатор принадлежности типа оборудования к категории `M`.\n"
   ]
  },
  {
   "cell_type": "code",
   "execution_count": 193,
   "metadata": {},
   "outputs": [
    {
     "name": "stdout",
     "output_type": "stream",
     "text": [
      "Предобработка завершена. Данные сохранены в 'additional_variable_train.csv'.\n"
     ]
    }
   ],
   "source": [
    "# Сохранение предобработанных данных\n",
    "data.to_csv('additional_variable_train.csv', sep=';', index=False) # Обратите внимание на разделитесь!\n",
    "print(\"Предобработка завершена. Данные сохранены в 'additional_variable_train.csv'.\")"
   ]
  }
 ],
 "metadata": {
  "kernelspec": {
   "display_name": "Python 3",
   "language": "python",
   "name": "python3"
  },
  "language_info": {
   "codemirror_mode": {
    "name": "ipython",
    "version": 3
   },
   "file_extension": ".py",
   "mimetype": "text/x-python",
   "name": "python",
   "nbconvert_exporter": "python",
   "pygments_lexer": "ipython3",
   "version": "3.12.7"
  }
 },
 "nbformat": 4,
 "nbformat_minor": 2
}
