{
 "cells": [
  {
   "cell_type": "code",
   "execution_count": 2,
   "metadata": {},
   "outputs": [],
   "source": [
    "import pandas as pd\n",
    "import numpy as np"
   ]
  },
  {
   "cell_type": "code",
   "execution_count": 12,
   "metadata": {},
   "outputs": [],
   "source": [
    "pd.set_option('display.max_columns', None)  # Показать все столбцы\n",
    "pd.set_option('display.width', 1900)        # Установить ширину области отображения"
   ]
  },
  {
   "cell_type": "code",
   "execution_count": 3,
   "metadata": {},
   "outputs": [],
   "source": [
    "# Загрузка файла для обучения  - уже после обработки\n",
    "data_processed_train = pd.read_csv('processed_train.csv', sep=';') # Обратите внимание на путь файла и разделитель\n",
    "\n",
    "# Загрузка файла для тестирования\n",
    "data_test = pd.read_csv('files/test.csv') # Обратите внимание на путь файла"
   ]
  },
  {
   "cell_type": "code",
   "execution_count": 4,
   "metadata": {},
   "outputs": [
    {
     "name": "stdout",
     "output_type": "stream",
     "text": [
      "<class 'pandas.core.frame.DataFrame'>\n",
      "RangeIndex: 136429 entries, 0 to 136428\n",
      "Data columns (total 15 columns):\n",
      " #   Column                          Non-Null Count   Dtype  \n",
      "---  ------                          --------------   -----  \n",
      " 0   id                              136429 non-null  int64  \n",
      " 1   Air temperature [K]             136429 non-null  float64\n",
      " 2   Process temperature [K]         136429 non-null  float64\n",
      " 3   Rotational speed [rpm]          136429 non-null  int64  \n",
      " 4   Torque [Nm]                     136429 non-null  float64\n",
      " 5   Tool wear [min]                 136429 non-null  int64  \n",
      " 6   Machine failure                 136429 non-null  int64  \n",
      " 7   Tool Wear Failure [TWF]         136429 non-null  int64  \n",
      " 8   Heat Dissipation Failure [HDF]  136429 non-null  int64  \n",
      " 9   Power Failure [PWF]             136429 non-null  int64  \n",
      " 10  Overstrain Failure [OSF]        136429 non-null  int64  \n",
      " 11  Random Failure [RNF]            136429 non-null  int64  \n",
      " 12  Type_H                          136429 non-null  bool   \n",
      " 13  Type_L                          136429 non-null  bool   \n",
      " 14  Type_M                          136429 non-null  bool   \n",
      "dtypes: bool(3), float64(3), int64(9)\n",
      "memory usage: 12.9 MB\n",
      "None\n"
     ]
    }
   ],
   "source": [
    "# Получение общей информации о данных\n",
    "print(data_processed_train.info())\n"
   ]
  },
  {
   "cell_type": "code",
   "execution_count": 5,
   "metadata": {},
   "outputs": [
    {
     "name": "stdout",
     "output_type": "stream",
     "text": [
      "<class 'pandas.core.frame.DataFrame'>\n",
      "RangeIndex: 90954 entries, 0 to 90953\n",
      "Data columns (total 13 columns):\n",
      " #   Column                   Non-Null Count  Dtype  \n",
      "---  ------                   --------------  -----  \n",
      " 0   id                       90954 non-null  int64  \n",
      " 1   Product ID               90954 non-null  object \n",
      " 2   Type                     90954 non-null  object \n",
      " 3   Air temperature [K]      90954 non-null  float64\n",
      " 4   Process temperature [K]  90954 non-null  float64\n",
      " 5   Rotational speed [rpm]   90954 non-null  int64  \n",
      " 6   Torque [Nm]              90954 non-null  float64\n",
      " 7   Tool wear [min]          90954 non-null  int64  \n",
      " 8   TWF                      90954 non-null  int64  \n",
      " 9   HDF                      90954 non-null  int64  \n",
      " 10  PWF                      90954 non-null  int64  \n",
      " 11  OSF                      90954 non-null  int64  \n",
      " 12  RNF                      90954 non-null  int64  \n",
      "dtypes: float64(3), int64(8), object(2)\n",
      "memory usage: 9.0+ MB\n",
      "None\n"
     ]
    }
   ],
   "source": [
    "# Получение общей информации о данных\n",
    "print(data_test.info())"
   ]
  },
  {
   "cell_type": "markdown",
   "metadata": {},
   "source": [
    "### Вывод:\n",
    "— Как видно из результатов, у нас разная структура таблицы, и её надо преобразовать.  \n",
    "— Данные мы не нормализовали и не удаляли.\n"
   ]
  },
  {
   "cell_type": "code",
   "execution_count": 6,
   "metadata": {},
   "outputs": [
    {
     "name": "stdout",
     "output_type": "stream",
     "text": [
      "<class 'pandas.core.frame.DataFrame'>\n",
      "RangeIndex: 90954 entries, 0 to 90953\n",
      "Data columns (total 14 columns):\n",
      " #   Column                          Non-Null Count  Dtype  \n",
      "---  ------                          --------------  -----  \n",
      " 0   id                              90954 non-null  int64  \n",
      " 1   Air temperature [K]             90954 non-null  float64\n",
      " 2   Process temperature [K]         90954 non-null  float64\n",
      " 3   Rotational speed [rpm]          90954 non-null  int64  \n",
      " 4   Torque [Nm]                     90954 non-null  float64\n",
      " 5   Tool wear [min]                 90954 non-null  int64  \n",
      " 6   Tool Wear Failure [TWF]         90954 non-null  int64  \n",
      " 7   Heat Dissipation Failure [HDF]  90954 non-null  int64  \n",
      " 8   Power Failure [PWF]             90954 non-null  int64  \n",
      " 9   Overstrain Failure [OSF]        90954 non-null  int64  \n",
      " 10  Random Failure [RNF]            90954 non-null  int64  \n",
      " 11  Type_H                          90954 non-null  bool   \n",
      " 12  Type_L                          90954 non-null  bool   \n",
      " 13  Type_M                          90954 non-null  bool   \n",
      "dtypes: bool(3), float64(3), int64(8)\n",
      "memory usage: 7.9 MB\n",
      "None\n"
     ]
    }
   ],
   "source": [
    "# Разделение столбца 'Type' на булевые столбцы 'Type_H', 'Type_L', 'Type_M'\n",
    "data_test['Type_H'] = (data_test['Type'] == 'H').astype(bool)\n",
    "data_test['Type_L'] = (data_test['Type'] == 'L').astype(bool)\n",
    "data_test['Type_M'] = (data_test['Type'] == 'M').astype(bool)\n",
    "\n",
    "# Удаление оригинального столбца 'Type' и 'Product ID'\n",
    "data_test = data_test.drop(columns=['Type', 'Product ID'])\n",
    "\n",
    "# Переименование столбцов для отказов\n",
    "data_test.rename(columns={\n",
    "    'TWF': 'Tool Wear Failure [TWF]',\n",
    "    'HDF': 'Heat Dissipation Failure [HDF]',\n",
    "    'PWF': 'Power Failure [PWF]',\n",
    "    'OSF': 'Overstrain Failure [OSF]',\n",
    "    'RNF': 'Random Failure [RNF]'\n",
    "}, inplace=True)\n",
    "\n",
    "# Проверка результата\n",
    "print(data_test.info())"
   ]
  },
  {
   "cell_type": "markdown",
   "metadata": {},
   "source": [
    "У нас не хватает только столца `Machine failure` - создам его и заполню NAN \n",
    "\n",
    "Если не надо, то просто не будем запускать данный блок!"
   ]
  },
  {
   "cell_type": "code",
   "execution_count": 7,
   "metadata": {},
   "outputs": [
    {
     "name": "stdout",
     "output_type": "stream",
     "text": [
      "<class 'pandas.core.frame.DataFrame'>\n",
      "RangeIndex: 90954 entries, 0 to 90953\n",
      "Data columns (total 15 columns):\n",
      " #   Column                          Non-Null Count  Dtype  \n",
      "---  ------                          --------------  -----  \n",
      " 0   id                              90954 non-null  int64  \n",
      " 1   Air temperature [K]             90954 non-null  float64\n",
      " 2   Process temperature [K]         90954 non-null  float64\n",
      " 3   Rotational speed [rpm]          90954 non-null  int64  \n",
      " 4   Torque [Nm]                     90954 non-null  float64\n",
      " 5   Tool wear [min]                 90954 non-null  int64  \n",
      " 6   Tool Wear Failure [TWF]         90954 non-null  int64  \n",
      " 7   Heat Dissipation Failure [HDF]  90954 non-null  int64  \n",
      " 8   Power Failure [PWF]             90954 non-null  int64  \n",
      " 9   Overstrain Failure [OSF]        90954 non-null  int64  \n",
      " 10  Random Failure [RNF]            90954 non-null  int64  \n",
      " 11  Type_H                          90954 non-null  bool   \n",
      " 12  Type_L                          90954 non-null  bool   \n",
      " 13  Type_M                          90954 non-null  bool   \n",
      " 14  Machine failure                 0 non-null      float64\n",
      "dtypes: bool(3), float64(4), int64(8)\n",
      "memory usage: 8.6 MB\n",
      "None\n"
     ]
    }
   ],
   "source": [
    "# Добавление столбца 'Machine failure' и заполнение его значениями NaN\n",
    "data_test['Machine failure'] = np.nan  # Заполнение NaN\n",
    "print(data_test.info())"
   ]
  },
  {
   "cell_type": "markdown",
   "metadata": {},
   "source": [
    "Это из серии перфекционизма 😂 Поменяла местами столбцы, чтобы они были как в обучающей выборке.\n"
   ]
  },
  {
   "cell_type": "code",
   "execution_count": 8,
   "metadata": {},
   "outputs": [
    {
     "name": "stdout",
     "output_type": "stream",
     "text": [
      "<class 'pandas.core.frame.DataFrame'>\n",
      "RangeIndex: 90954 entries, 0 to 90953\n",
      "Data columns (total 15 columns):\n",
      " #   Column                          Non-Null Count  Dtype  \n",
      "---  ------                          --------------  -----  \n",
      " 0   id                              90954 non-null  int64  \n",
      " 1   Air temperature [K]             90954 non-null  float64\n",
      " 2   Process temperature [K]         90954 non-null  float64\n",
      " 3   Rotational speed [rpm]          90954 non-null  int64  \n",
      " 4   Torque [Nm]                     90954 non-null  float64\n",
      " 5   Tool wear [min]                 90954 non-null  int64  \n",
      " 6   Machine failure                 0 non-null      float64\n",
      " 7   Tool Wear Failure [TWF]         90954 non-null  int64  \n",
      " 8   Heat Dissipation Failure [HDF]  90954 non-null  int64  \n",
      " 9   Power Failure [PWF]             90954 non-null  int64  \n",
      " 10  Overstrain Failure [OSF]        90954 non-null  int64  \n",
      " 11  Random Failure [RNF]            90954 non-null  int64  \n",
      " 12  Type_H                          90954 non-null  bool   \n",
      " 13  Type_L                          90954 non-null  bool   \n",
      " 14  Type_M                          90954 non-null  bool   \n",
      "dtypes: bool(3), float64(4), int64(8)\n",
      "memory usage: 8.6 MB\n",
      "None\n"
     ]
    }
   ],
   "source": [
    "# Задание нового порядка столбцов для тестового набора данных\n",
    "new_column_order = [\n",
    "    'id',\n",
    "    'Air temperature [K]',\n",
    "    'Process temperature [K]',\n",
    "    'Rotational speed [rpm]',\n",
    "    'Torque [Nm]',\n",
    "    'Tool wear [min]',\n",
    "    'Machine failure',  \n",
    "    'Tool Wear Failure [TWF]',\n",
    "    'Heat Dissipation Failure [HDF]',\n",
    "    'Power Failure [PWF]',\n",
    "    'Overstrain Failure [OSF]',\n",
    "    'Random Failure [RNF]',\n",
    "    'Type_H',\n",
    "    'Type_L',\n",
    "    'Type_M'\n",
    "]\n",
    "\n",
    "# Изменение порядка столбцов\n",
    "data_test = data_test[new_column_order]\n",
    "\n",
    "print(data_test.info())"
   ]
  },
  {
   "cell_type": "code",
   "execution_count": 9,
   "metadata": {},
   "outputs": [
    {
     "name": "stdout",
     "output_type": "stream",
     "text": [
      "                            Column Type (Train) Type (Test)\n",
      "0                               id        int64       int64\n",
      "1              Air temperature [K]      float64     float64\n",
      "2          Process temperature [K]      float64     float64\n",
      "3           Rotational speed [rpm]        int64       int64\n",
      "4                      Torque [Nm]      float64     float64\n",
      "5                  Tool wear [min]        int64       int64\n",
      "6                  Machine failure        int64     float64\n",
      "7          Tool Wear Failure [TWF]        int64       int64\n",
      "8   Heat Dissipation Failure [HDF]        int64       int64\n",
      "9              Power Failure [PWF]        int64       int64\n",
      "10        Overstrain Failure [OSF]        int64       int64\n",
      "11            Random Failure [RNF]        int64       int64\n",
      "12                          Type_H         bool        bool\n",
      "13                          Type_L         bool        bool\n",
      "14                          Type_M         bool        bool\n"
     ]
    }
   ],
   "source": [
    "# Получение типов данных\n",
    "train_dtypes = data_processed_train.dtypes\n",
    "test_dtypes = data_test.dtypes\n",
    "\n",
    "# Создание DataFrame для сопоставления типов данных\n",
    "comparison_df = pd.DataFrame({\n",
    "    'Column': train_dtypes.index,\n",
    "    'Type (Train)': train_dtypes.values,\n",
    "    'Type (Test)': test_dtypes.reindex(train_dtypes.index, fill_value='Missing').values\n",
    "})\n",
    "\n",
    "# Вывод результата\n",
    "print(comparison_df)"
   ]
  },
  {
   "cell_type": "code",
   "execution_count": 14,
   "metadata": {},
   "outputs": [
    {
     "name": "stdout",
     "output_type": "stream",
     "text": [
      "Сравним данные по форматам\n",
      "\n",
      "Тестовая таблица\n",
      "       id  Air temperature [K]  Process temperature [K]  Rotational speed [rpm]  Torque [Nm]  Tool wear [min]  Machine failure  Tool Wear Failure [TWF]  Heat Dissipation Failure [HDF]  Power Failure [PWF]  Overstrain Failure [OSF]  Random Failure [RNF]  Type_H  Type_L  Type_M\n",
      "0  136429                302.3                    311.5                    1499         38.0               60              NaN                        0                               0                    0                         0                     0   False    True   False\n",
      "1  136430                301.7                    311.0                    1713         28.8               17              NaN                        0                               0                    0                         0                     0   False    True   False\n",
      "2  136431                301.3                    310.4                    1525         37.7               96              NaN                        0                               0                    0                         0                     0   False    True   False\n",
      "3  136432                300.1                    309.6                    1479         47.6                5              NaN                        0                               0                    0                         0                     0   False   False    True\n",
      "4  136433                303.4                    312.3                    1515         41.3              114              NaN                        0                               0                    0                         0                     0   False   False    True\n",
      "\n",
      "\n",
      "Таблица для обучения\n",
      "   id  Air temperature [K]  Process temperature [K]  Rotational speed [rpm]  Torque [Nm]  Tool wear [min]  Machine failure  Tool Wear Failure [TWF]  Heat Dissipation Failure [HDF]  Power Failure [PWF]  Overstrain Failure [OSF]  Random Failure [RNF]  Type_H  Type_L  Type_M\n",
      "0   0                300.6                    309.6                    1596         36.1              140                0                        0                               0                    0                         0                     0   False    True   False\n",
      "1   1                302.6                    312.1                    1759         29.1              200                0                        0                               0                    0                         0                     0   False   False    True\n",
      "2   2                299.3                    308.5                    1802         26.5               25                0                        0                               0                    0                         0                     0   False    True   False\n",
      "3   3                301.0                    310.9                    1524         44.3              197                0                        0                               0                    0                         0                     0   False    True   False\n",
      "4   4                298.0                    309.0                    1641         35.4               34                0                        0                               0                    0                         0                     0   False   False    True\n"
     ]
    }
   ],
   "source": [
    "print('Сравним данные по форматам\\n')\n",
    "print('Тестовая таблица')\n",
    "print(data_test.head())\n",
    "print('\\n\\nТаблица для обучения')\n",
    "print(data_processed_train.head())"
   ]
  },
  {
   "cell_type": "code",
   "execution_count": 11,
   "metadata": {},
   "outputs": [
    {
     "name": "stdout",
     "output_type": "stream",
     "text": [
      "Предобработка завершена. Данные сохранены в 'processed_test.csv'.\n"
     ]
    }
   ],
   "source": [
    "# Сохранение предобработанных данных для Тестирования!\n",
    "data_test.to_csv('processed_test.csv', sep=';', index=False) # Обратите внимание на разделитесь!\n",
    "print(\"Предобработка завершена. Данные сохранены в 'processed_test.csv'.\")"
   ]
  }
 ],
 "metadata": {
  "kernelspec": {
   "display_name": "Python 3",
   "language": "python",
   "name": "python3"
  },
  "language_info": {
   "codemirror_mode": {
    "name": "ipython",
    "version": 3
   },
   "file_extension": ".py",
   "mimetype": "text/x-python",
   "name": "python",
   "nbconvert_exporter": "python",
   "pygments_lexer": "ipython3",
   "version": "3.12.7"
  }
 },
 "nbformat": 4,
 "nbformat_minor": 2
}
