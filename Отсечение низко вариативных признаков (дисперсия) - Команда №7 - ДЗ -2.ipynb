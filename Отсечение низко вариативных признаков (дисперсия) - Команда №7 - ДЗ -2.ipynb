{
 "cells": [
  {
   "cell_type": "code",
   "execution_count": 7,
   "metadata": {},
   "outputs": [],
   "source": [
    "import pandas as pd\n",
    "from sklearn.feature_selection import VarianceThreshold\n",
    "from sklearn.preprocessing import MinMaxScaler"
   ]
  },
  {
   "cell_type": "code",
   "execution_count": 8,
   "metadata": {},
   "outputs": [],
   "source": [
    "pd.set_option('display.max_columns', None)  # Показать все столбцы\n",
    "pd.set_option('display.width', 1900)        # Установить ширину области отображения"
   ]
  },
  {
   "cell_type": "code",
   "execution_count": 9,
   "metadata": {},
   "outputs": [],
   "source": [
    "# Загрузка данных\n",
    "data = pd.read_csv('additional_variable_train.csv', sep=';') # Обратите внимание на путь файла\n",
    "\n",
    "# Просмотр первых строк\n",
    "# print(data.head())"
   ]
  },
  {
   "cell_type": "code",
   "execution_count": 10,
   "metadata": {},
   "outputs": [
    {
     "name": "stdout",
     "output_type": "stream",
     "text": [
      "Дисперсия признаков:\n",
      "Air temperature [K]        0.041879\n",
      "Process temperature [K]    0.029980\n",
      "Rotational speed [rpm]     0.039801\n",
      "Torque [Nm]                0.033576\n",
      "Ratio                      0.023647\n",
      "Deviation from Average     0.023647\n",
      "Tool wear [min]            0.063921\n",
      "Sum_Parametr               0.001907\n",
      "dtype: float64\n",
      "Оставшиеся признаки: ['Air temperature [K]', 'Process temperature [K]', 'Rotational speed [rpm]', 'Torque [Nm]', 'Ratio', 'Deviation from Average', 'Tool wear [min]']\n",
      "\n",
      "Итоговый датасет после удаления низко вариативных признаков:\n",
      "   Air temperature [K]  Process temperature [K]  Rotational speed [rpm]  Torque [Nm]      Ratio  Deviation from Average  Tool wear [min]\n",
      "0                300.6                    309.6                    1596         36.1  44.210526                4.152469              140\n",
      "1                302.6                    312.1                    1759         29.1  60.446735               20.388678              200\n",
      "2                299.3                    308.5                    1802         26.5  68.000000               27.941942               25\n",
      "3                301.0                    310.9                    1524         44.3  34.401806               -5.656252              197\n",
      "4                298.0                    309.0                    1641         35.4  46.355932                6.297875               34\n"
     ]
    }
   ],
   "source": [
    "# Список числовых признаков (исключаем целевую переменную и категориальные признаки)\n",
    "numeric_columns = [\n",
    "    'Air temperature [K]',\n",
    "    'Process temperature [K]',\n",
    "    'Rotational speed [rpm]',\n",
    "    'Torque [Nm]',\n",
    "    'Ratio',\n",
    "    'Deviation from Average',\n",
    "    'Tool wear [min]',\n",
    "    'Sum_Parametr'\n",
    "]\n",
    "\n",
    "# Приведение данных к масштабу 0-1\n",
    "scaler = MinMaxScaler()\n",
    "data_scaled = pd.DataFrame(scaler.fit_transform(data[numeric_columns]), columns=numeric_columns)\n",
    "\n",
    "# Вычисление дисперсии\n",
    "variances = data_scaled.var()\n",
    "print(\"Дисперсия признаков:\")\n",
    "print(variances)\n",
    "\n",
    "# Устанавливаем порог отсечения\n",
    "threshold = 0.01  # Пример порога\n",
    "selector = VarianceThreshold(threshold=threshold)\n",
    "\n",
    "# Применяем селектор\n",
    "data_high_variance = selector.fit_transform(data_scaled)\n",
    "\n",
    "# Получение оставшихся признаков\n",
    "selected_features = data_scaled.columns[selector.get_support()]\n",
    "print(\"Оставшиеся признаки:\", list(selected_features))\n",
    "\n",
    "# Формируем новый датасет с оставшимися признаками\n",
    "data_filtered = data[selected_features]\n",
    "\n",
    "# Печать итогового датасета\n",
    "print(\"\\nИтоговый датасет после удаления низко вариативных признаков:\")\n",
    "print(data_filtered.head())\n"
   ]
  },
  {
   "cell_type": "code",
   "execution_count": 11,
   "metadata": {},
   "outputs": [
    {
     "name": "stdout",
     "output_type": "stream",
     "text": [
      "Предобработка завершена. Данные сохранены в 'low_variance_train.csv'.\n"
     ]
    }
   ],
   "source": [
    "# Сохранение предобработанных данных\n",
    "# data.info()\n",
    "data.to_csv('low_variance_train.csv', sep=';', index=False) # Обратите внимание на разделитесь!\n",
    "print(\"Предобработка завершена. Данные сохранены в 'low_variance_train.csv'.\")"
   ]
  },
  {
   "cell_type": "markdown",
   "metadata": {},
   "source": [
    "#### Выбор числовых признаков:\n",
    "- Из списка признаков исключаем:\n",
    "  - **id**, так как это идентификатор.\n",
    "  - **Целевую переменную** `Machine failure`.\n",
    "  - **Бинарные индикаторы** (`Type_H`, `Type_L`, `Type_M`).\n",
    "\n",
    "#### Приведение к масштабу:\n",
    "- Используем **MinMaxScaler**, чтобы нормализовать значения числовых признаков.\n",
    "\n",
    "#### Расчет дисперсии:\n",
    "- Рассчитываем **дисперсию** для каждого из числовых признаков.\n",
    "> Дисперсия — это статистический показатель, который измеряет разброс или вариативность значений данных относительно их среднего значения (математического ожидания). Чем выше дисперсия, тем более разнообразны данные, и наоборот.\n",
    "\n",
    "#### Отсечение признаков:\n",
    "- Устанавливаем порог (например, 0.01) и удаляем признаки с дисперсией ниже этого значения.\n",
    "\n",
    "#### Формирование итогового датасета:\n",
    "- Оставляем только признаки с высокой дисперсией.\n",
    "- Сохраняем их в новый датасет `data_filtered`.\n",
    "\n",
    "#### Вывод:\n",
    "- Нужно убедиться, что **удаление признаков** не повлияло на важные зависимости в данных.\n",
    "- Получившийся датасет `data_filtered` можно использовать для **обучения модели**.\n",
    "\n",
    "### Для чего нужно было:\n",
    "- **Исключение признаков с низкой вариативностью**, которые не влияют на целевую переменную.\n",
    "- **Снижение размерности данных**, что ускорит обучение модели.\n",
    "- **Повышение интерпретируемости модели** за счет использования только информативных признаков.\n"
   ]
  }
 ],
 "metadata": {
  "kernelspec": {
   "display_name": "Python 3",
   "language": "python",
   "name": "python3"
  },
  "language_info": {
   "codemirror_mode": {
    "name": "ipython",
    "version": 3
   },
   "file_extension": ".py",
   "mimetype": "text/x-python",
   "name": "python",
   "nbconvert_exporter": "python",
   "pygments_lexer": "ipython3",
   "version": "3.12.7"
  }
 },
 "nbformat": 4,
 "nbformat_minor": 2
}
